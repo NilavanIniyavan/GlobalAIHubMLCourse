{
  "nbformat": 4,
  "nbformat_minor": 0,
  "metadata": {
    "colab": {
      "name": "Homework 2.ipynb",
      "provenance": [],
      "collapsed_sections": [],
      "authorship_tag": "ABX9TyM95+SslTvzeeOlbbXTvqu0",
      "include_colab_link": true
    },
    "kernelspec": {
      "name": "python3",
      "display_name": "Python 3"
    }
  },
  "cells": [
    {
      "cell_type": "markdown",
      "metadata": {
        "id": "view-in-github",
        "colab_type": "text"
      },
      "source": [
        "<a href=\"https://colab.research.google.com/github/NilavanIniyavan/GlobalAIHubMLCourse/blob/main/Homework_2.ipynb\" target=\"_parent\"><img src=\"https://colab.research.google.com/assets/colab-badge.svg\" alt=\"Open In Colab\"/></a>"
      ]
    },
    {
      "cell_type": "markdown",
      "metadata": {
        "id": "njEQUQfrqrUI"
      },
      "source": [
        "Question 1:\r\n",
        "Import Boston Dataset from sklearn dataset class."
      ]
    },
    {
      "cell_type": "code",
      "metadata": {
        "id": "fnnUVcsoq2TL"
      },
      "source": [
        "from sklearn.datasets import load_boston"
      ],
      "execution_count": 6,
      "outputs": []
    },
    {
      "cell_type": "markdown",
      "metadata": {
        "id": "G0lCSakVrHSZ"
      },
      "source": [
        "Question 2:\r\n",
        "Explore and analyse raw data."
      ]
    },
    {
      "cell_type": "code",
      "metadata": {
        "id": "GnA1fmqJrLTU",
        "colab": {
          "base_uri": "https://localhost:8080/"
        },
        "outputId": "f9ddb54f-ef53-42da-e702-b0e3f90c85f0"
      },
      "source": [
        "import numpy as np\r\n",
        "from sklearn.linear_model import LinearRegression\r\n",
        "from sklearn.datasets import make_regression\r\n",
        "X_m, y_m = make_regression(n_samples=100, n_features=2, noise=20,random_state=42)\r\n",
        "X_m.shape"
      ],
      "execution_count": 7,
      "outputs": [
        {
          "output_type": "execute_result",
          "data": {
            "text/plain": [
              "(100, 2)"
            ]
          },
          "metadata": {
            "tags": []
          },
          "execution_count": 7
        }
      ]
    },
    {
      "cell_type": "code",
      "metadata": {
        "colab": {
          "base_uri": "https://localhost:8080/"
        },
        "id": "pMyD2qCG8W6V",
        "outputId": "ba67d9a1-22bb-4897-9681-e8667edee41c"
      },
      "source": [
        "model = LinearRegression().fit(X_m, y_m)\r\n",
        "r_sq = model.score(X_m, y_m)\r\n",
        "print('coefficient of determination:', r_sq)\r\n",
        "print('intercept:', model.intercept_)\r\n",
        "print('slope:', model.coef_)"
      ],
      "execution_count": 8,
      "outputs": [
        {
          "output_type": "stream",
          "text": [
            "coefficient of determination: 0.959604849170989\n",
            "intercept: 0.4327161689219041\n",
            "slope: [84.26785337 74.15664645]\n"
          ],
          "name": "stdout"
        }
      ]
    },
    {
      "cell_type": "code",
      "metadata": {
        "colab": {
          "base_uri": "https://localhost:8080/"
        },
        "id": "t21ftngq846s",
        "outputId": "c200242f-5713-4ce7-9989-1913b4f7bc8e"
      },
      "source": [
        "Xm_test, ym_test = make_regression(n_samples=20, n_features=2, noise=20, random_state=42)\r\n",
        "\r\n",
        "ym_pred = model.predict(Xm_test)\r\n",
        "print('predicted response:', ym_pred, sep='\\n')"
      ],
      "execution_count": 9,
      "outputs": [
        {
          "output_type": "stream",
          "text": [
            "predicted response:\n",
            "[ -53.2618421   -81.47203332  182.21191983 -185.91510539  -48.19449499\n",
            "  -30.58967254 -142.85219232  -89.69922222  -68.68904094 -149.21585472\n",
            "  -41.44798528   90.09462956  -73.17883242 -174.86416876 -114.62008988\n",
            "  -36.66153161   11.33844031  111.89967811   25.61613614  176.80558272]\n"
          ],
          "name": "stdout"
        }
      ]
    },
    {
      "cell_type": "code",
      "metadata": {
        "colab": {
          "base_uri": "https://localhost:8080/"
        },
        "id": "VJsVq4Ut9J8u",
        "outputId": "e45b905c-c03d-46e4-d56c-a13494cc6f42"
      },
      "source": [
        "print('Coefficient of determination (R2) of test:', model.score(Xm_test,ym_test))"
      ],
      "execution_count": 10,
      "outputs": [
        {
          "output_type": "stream",
          "text": [
            "Coefficient of determination (R2) of test: 0.9587826719061529\n"
          ],
          "name": "stdout"
        }
      ]
    },
    {
      "cell_type": "markdown",
      "metadata": {
        "id": "dQKnMJhv9yhN"
      },
      "source": [
        "Question 3:\r\n",
        "Do preprocessing for regression."
      ]
    },
    {
      "cell_type": "code",
      "metadata": {
        "colab": {
          "base_uri": "https://localhost:8080/",
          "height": 195
        },
        "id": "EfISmha3974V",
        "outputId": "94992ab1-154d-4421-c123-049141a3209c"
      },
      "source": [
        "import pandas as pd\r\n",
        "\r\n",
        "Xb,yb =load_boston(return_X_y=True)\r\n",
        "\r\n",
        "df_boston = pd.DataFrame(Xb,columns = load_boston().feature_names)\r\n",
        "df_boston.head()"
      ],
      "execution_count": 11,
      "outputs": [
        {
          "output_type": "execute_result",
          "data": {
            "text/html": [
              "<div>\n",
              "<style scoped>\n",
              "    .dataframe tbody tr th:only-of-type {\n",
              "        vertical-align: middle;\n",
              "    }\n",
              "\n",
              "    .dataframe tbody tr th {\n",
              "        vertical-align: top;\n",
              "    }\n",
              "\n",
              "    .dataframe thead th {\n",
              "        text-align: right;\n",
              "    }\n",
              "</style>\n",
              "<table border=\"1\" class=\"dataframe\">\n",
              "  <thead>\n",
              "    <tr style=\"text-align: right;\">\n",
              "      <th></th>\n",
              "      <th>CRIM</th>\n",
              "      <th>ZN</th>\n",
              "      <th>INDUS</th>\n",
              "      <th>CHAS</th>\n",
              "      <th>NOX</th>\n",
              "      <th>RM</th>\n",
              "      <th>AGE</th>\n",
              "      <th>DIS</th>\n",
              "      <th>RAD</th>\n",
              "      <th>TAX</th>\n",
              "      <th>PTRATIO</th>\n",
              "      <th>B</th>\n",
              "      <th>LSTAT</th>\n",
              "    </tr>\n",
              "  </thead>\n",
              "  <tbody>\n",
              "    <tr>\n",
              "      <th>0</th>\n",
              "      <td>0.00632</td>\n",
              "      <td>18.0</td>\n",
              "      <td>2.31</td>\n",
              "      <td>0.0</td>\n",
              "      <td>0.538</td>\n",
              "      <td>6.575</td>\n",
              "      <td>65.2</td>\n",
              "      <td>4.0900</td>\n",
              "      <td>1.0</td>\n",
              "      <td>296.0</td>\n",
              "      <td>15.3</td>\n",
              "      <td>396.90</td>\n",
              "      <td>4.98</td>\n",
              "    </tr>\n",
              "    <tr>\n",
              "      <th>1</th>\n",
              "      <td>0.02731</td>\n",
              "      <td>0.0</td>\n",
              "      <td>7.07</td>\n",
              "      <td>0.0</td>\n",
              "      <td>0.469</td>\n",
              "      <td>6.421</td>\n",
              "      <td>78.9</td>\n",
              "      <td>4.9671</td>\n",
              "      <td>2.0</td>\n",
              "      <td>242.0</td>\n",
              "      <td>17.8</td>\n",
              "      <td>396.90</td>\n",
              "      <td>9.14</td>\n",
              "    </tr>\n",
              "    <tr>\n",
              "      <th>2</th>\n",
              "      <td>0.02729</td>\n",
              "      <td>0.0</td>\n",
              "      <td>7.07</td>\n",
              "      <td>0.0</td>\n",
              "      <td>0.469</td>\n",
              "      <td>7.185</td>\n",
              "      <td>61.1</td>\n",
              "      <td>4.9671</td>\n",
              "      <td>2.0</td>\n",
              "      <td>242.0</td>\n",
              "      <td>17.8</td>\n",
              "      <td>392.83</td>\n",
              "      <td>4.03</td>\n",
              "    </tr>\n",
              "    <tr>\n",
              "      <th>3</th>\n",
              "      <td>0.03237</td>\n",
              "      <td>0.0</td>\n",
              "      <td>2.18</td>\n",
              "      <td>0.0</td>\n",
              "      <td>0.458</td>\n",
              "      <td>6.998</td>\n",
              "      <td>45.8</td>\n",
              "      <td>6.0622</td>\n",
              "      <td>3.0</td>\n",
              "      <td>222.0</td>\n",
              "      <td>18.7</td>\n",
              "      <td>394.63</td>\n",
              "      <td>2.94</td>\n",
              "    </tr>\n",
              "    <tr>\n",
              "      <th>4</th>\n",
              "      <td>0.06905</td>\n",
              "      <td>0.0</td>\n",
              "      <td>2.18</td>\n",
              "      <td>0.0</td>\n",
              "      <td>0.458</td>\n",
              "      <td>7.147</td>\n",
              "      <td>54.2</td>\n",
              "      <td>6.0622</td>\n",
              "      <td>3.0</td>\n",
              "      <td>222.0</td>\n",
              "      <td>18.7</td>\n",
              "      <td>396.90</td>\n",
              "      <td>5.33</td>\n",
              "    </tr>\n",
              "  </tbody>\n",
              "</table>\n",
              "</div>"
            ],
            "text/plain": [
              "      CRIM    ZN  INDUS  CHAS    NOX  ...  RAD    TAX  PTRATIO       B  LSTAT\n",
              "0  0.00632  18.0   2.31   0.0  0.538  ...  1.0  296.0     15.3  396.90   4.98\n",
              "1  0.02731   0.0   7.07   0.0  0.469  ...  2.0  242.0     17.8  396.90   9.14\n",
              "2  0.02729   0.0   7.07   0.0  0.469  ...  2.0  242.0     17.8  392.83   4.03\n",
              "3  0.03237   0.0   2.18   0.0  0.458  ...  3.0  222.0     18.7  394.63   2.94\n",
              "4  0.06905   0.0   2.18   0.0  0.458  ...  3.0  222.0     18.7  396.90   5.33\n",
              "\n",
              "[5 rows x 13 columns]"
            ]
          },
          "metadata": {
            "tags": []
          },
          "execution_count": 11
        }
      ]
    },
    {
      "cell_type": "code",
      "metadata": {
        "colab": {
          "base_uri": "https://localhost:8080/"
        },
        "id": "sbym6MEP-gIO",
        "outputId": "7edcb4b4-8859-417c-eede-538525f4cb0a"
      },
      "source": [
        "df_boston.info()"
      ],
      "execution_count": 12,
      "outputs": [
        {
          "output_type": "stream",
          "text": [
            "<class 'pandas.core.frame.DataFrame'>\n",
            "RangeIndex: 506 entries, 0 to 505\n",
            "Data columns (total 13 columns):\n",
            " #   Column   Non-Null Count  Dtype  \n",
            "---  ------   --------------  -----  \n",
            " 0   CRIM     506 non-null    float64\n",
            " 1   ZN       506 non-null    float64\n",
            " 2   INDUS    506 non-null    float64\n",
            " 3   CHAS     506 non-null    float64\n",
            " 4   NOX      506 non-null    float64\n",
            " 5   RM       506 non-null    float64\n",
            " 6   AGE      506 non-null    float64\n",
            " 7   DIS      506 non-null    float64\n",
            " 8   RAD      506 non-null    float64\n",
            " 9   TAX      506 non-null    float64\n",
            " 10  PTRATIO  506 non-null    float64\n",
            " 11  B        506 non-null    float64\n",
            " 12  LSTAT    506 non-null    float64\n",
            "dtypes: float64(13)\n",
            "memory usage: 51.5 KB\n"
          ],
          "name": "stdout"
        }
      ]
    },
    {
      "cell_type": "code",
      "metadata": {
        "colab": {
          "base_uri": "https://localhost:8080/",
          "height": 284
        },
        "id": "EGX_B1IA-o-X",
        "outputId": "fa1edf1d-388b-40a4-ee33-e1523ffc4d82"
      },
      "source": [
        "df_boston.describe()"
      ],
      "execution_count": 13,
      "outputs": [
        {
          "output_type": "execute_result",
          "data": {
            "text/html": [
              "<div>\n",
              "<style scoped>\n",
              "    .dataframe tbody tr th:only-of-type {\n",
              "        vertical-align: middle;\n",
              "    }\n",
              "\n",
              "    .dataframe tbody tr th {\n",
              "        vertical-align: top;\n",
              "    }\n",
              "\n",
              "    .dataframe thead th {\n",
              "        text-align: right;\n",
              "    }\n",
              "</style>\n",
              "<table border=\"1\" class=\"dataframe\">\n",
              "  <thead>\n",
              "    <tr style=\"text-align: right;\">\n",
              "      <th></th>\n",
              "      <th>CRIM</th>\n",
              "      <th>ZN</th>\n",
              "      <th>INDUS</th>\n",
              "      <th>CHAS</th>\n",
              "      <th>NOX</th>\n",
              "      <th>RM</th>\n",
              "      <th>AGE</th>\n",
              "      <th>DIS</th>\n",
              "      <th>RAD</th>\n",
              "      <th>TAX</th>\n",
              "      <th>PTRATIO</th>\n",
              "      <th>B</th>\n",
              "      <th>LSTAT</th>\n",
              "    </tr>\n",
              "  </thead>\n",
              "  <tbody>\n",
              "    <tr>\n",
              "      <th>count</th>\n",
              "      <td>506.000000</td>\n",
              "      <td>506.000000</td>\n",
              "      <td>506.000000</td>\n",
              "      <td>506.000000</td>\n",
              "      <td>506.000000</td>\n",
              "      <td>506.000000</td>\n",
              "      <td>506.000000</td>\n",
              "      <td>506.000000</td>\n",
              "      <td>506.000000</td>\n",
              "      <td>506.000000</td>\n",
              "      <td>506.000000</td>\n",
              "      <td>506.000000</td>\n",
              "      <td>506.000000</td>\n",
              "    </tr>\n",
              "    <tr>\n",
              "      <th>mean</th>\n",
              "      <td>3.613524</td>\n",
              "      <td>11.363636</td>\n",
              "      <td>11.136779</td>\n",
              "      <td>0.069170</td>\n",
              "      <td>0.554695</td>\n",
              "      <td>6.284634</td>\n",
              "      <td>68.574901</td>\n",
              "      <td>3.795043</td>\n",
              "      <td>9.549407</td>\n",
              "      <td>408.237154</td>\n",
              "      <td>18.455534</td>\n",
              "      <td>356.674032</td>\n",
              "      <td>12.653063</td>\n",
              "    </tr>\n",
              "    <tr>\n",
              "      <th>std</th>\n",
              "      <td>8.601545</td>\n",
              "      <td>23.322453</td>\n",
              "      <td>6.860353</td>\n",
              "      <td>0.253994</td>\n",
              "      <td>0.115878</td>\n",
              "      <td>0.702617</td>\n",
              "      <td>28.148861</td>\n",
              "      <td>2.105710</td>\n",
              "      <td>8.707259</td>\n",
              "      <td>168.537116</td>\n",
              "      <td>2.164946</td>\n",
              "      <td>91.294864</td>\n",
              "      <td>7.141062</td>\n",
              "    </tr>\n",
              "    <tr>\n",
              "      <th>min</th>\n",
              "      <td>0.006320</td>\n",
              "      <td>0.000000</td>\n",
              "      <td>0.460000</td>\n",
              "      <td>0.000000</td>\n",
              "      <td>0.385000</td>\n",
              "      <td>3.561000</td>\n",
              "      <td>2.900000</td>\n",
              "      <td>1.129600</td>\n",
              "      <td>1.000000</td>\n",
              "      <td>187.000000</td>\n",
              "      <td>12.600000</td>\n",
              "      <td>0.320000</td>\n",
              "      <td>1.730000</td>\n",
              "    </tr>\n",
              "    <tr>\n",
              "      <th>25%</th>\n",
              "      <td>0.082045</td>\n",
              "      <td>0.000000</td>\n",
              "      <td>5.190000</td>\n",
              "      <td>0.000000</td>\n",
              "      <td>0.449000</td>\n",
              "      <td>5.885500</td>\n",
              "      <td>45.025000</td>\n",
              "      <td>2.100175</td>\n",
              "      <td>4.000000</td>\n",
              "      <td>279.000000</td>\n",
              "      <td>17.400000</td>\n",
              "      <td>375.377500</td>\n",
              "      <td>6.950000</td>\n",
              "    </tr>\n",
              "    <tr>\n",
              "      <th>50%</th>\n",
              "      <td>0.256510</td>\n",
              "      <td>0.000000</td>\n",
              "      <td>9.690000</td>\n",
              "      <td>0.000000</td>\n",
              "      <td>0.538000</td>\n",
              "      <td>6.208500</td>\n",
              "      <td>77.500000</td>\n",
              "      <td>3.207450</td>\n",
              "      <td>5.000000</td>\n",
              "      <td>330.000000</td>\n",
              "      <td>19.050000</td>\n",
              "      <td>391.440000</td>\n",
              "      <td>11.360000</td>\n",
              "    </tr>\n",
              "    <tr>\n",
              "      <th>75%</th>\n",
              "      <td>3.677083</td>\n",
              "      <td>12.500000</td>\n",
              "      <td>18.100000</td>\n",
              "      <td>0.000000</td>\n",
              "      <td>0.624000</td>\n",
              "      <td>6.623500</td>\n",
              "      <td>94.075000</td>\n",
              "      <td>5.188425</td>\n",
              "      <td>24.000000</td>\n",
              "      <td>666.000000</td>\n",
              "      <td>20.200000</td>\n",
              "      <td>396.225000</td>\n",
              "      <td>16.955000</td>\n",
              "    </tr>\n",
              "    <tr>\n",
              "      <th>max</th>\n",
              "      <td>88.976200</td>\n",
              "      <td>100.000000</td>\n",
              "      <td>27.740000</td>\n",
              "      <td>1.000000</td>\n",
              "      <td>0.871000</td>\n",
              "      <td>8.780000</td>\n",
              "      <td>100.000000</td>\n",
              "      <td>12.126500</td>\n",
              "      <td>24.000000</td>\n",
              "      <td>711.000000</td>\n",
              "      <td>22.000000</td>\n",
              "      <td>396.900000</td>\n",
              "      <td>37.970000</td>\n",
              "    </tr>\n",
              "  </tbody>\n",
              "</table>\n",
              "</div>"
            ],
            "text/plain": [
              "             CRIM          ZN       INDUS  ...     PTRATIO           B       LSTAT\n",
              "count  506.000000  506.000000  506.000000  ...  506.000000  506.000000  506.000000\n",
              "mean     3.613524   11.363636   11.136779  ...   18.455534  356.674032   12.653063\n",
              "std      8.601545   23.322453    6.860353  ...    2.164946   91.294864    7.141062\n",
              "min      0.006320    0.000000    0.460000  ...   12.600000    0.320000    1.730000\n",
              "25%      0.082045    0.000000    5.190000  ...   17.400000  375.377500    6.950000\n",
              "50%      0.256510    0.000000    9.690000  ...   19.050000  391.440000   11.360000\n",
              "75%      3.677083   12.500000   18.100000  ...   20.200000  396.225000   16.955000\n",
              "max     88.976200  100.000000   27.740000  ...   22.000000  396.900000   37.970000\n",
              "\n",
              "[8 rows x 13 columns]"
            ]
          },
          "metadata": {
            "tags": []
          },
          "execution_count": 13
        }
      ]
    },
    {
      "cell_type": "code",
      "metadata": {
        "colab": {
          "base_uri": "https://localhost:8080/"
        },
        "id": "JaKwURir-uGi",
        "outputId": "2fffa5de-18ae-4b27-8159-406737bad49f"
      },
      "source": [
        "df_boston.isna().sum()"
      ],
      "execution_count": 14,
      "outputs": [
        {
          "output_type": "execute_result",
          "data": {
            "text/plain": [
              "CRIM       0\n",
              "ZN         0\n",
              "INDUS      0\n",
              "CHAS       0\n",
              "NOX        0\n",
              "RM         0\n",
              "AGE        0\n",
              "DIS        0\n",
              "RAD        0\n",
              "TAX        0\n",
              "PTRATIO    0\n",
              "B          0\n",
              "LSTAT      0\n",
              "dtype: int64"
            ]
          },
          "metadata": {
            "tags": []
          },
          "execution_count": 14
        }
      ]
    },
    {
      "cell_type": "markdown",
      "metadata": {
        "id": "r5zlfn4b--gN"
      },
      "source": [
        "Question 4:\r\n",
        "Split your dataset into train and test test (0.7 for train and 0.3 for test)."
      ]
    },
    {
      "cell_type": "code",
      "metadata": {
        "colab": {
          "base_uri": "https://localhost:8080/"
        },
        "id": "qp0tbgI9_Elk",
        "outputId": "5971ee2c-7341-46c0-c35c-cd4e1d1a70ef"
      },
      "source": [
        "from sklearn.model_selection import train_test_split\r\n",
        "X_train, X_test, y_train, y_test = train_test_split(Xb,yb,train_size=0.7, test_size=0.3, random_state=42)\r\n",
        "X_train.shape"
      ],
      "execution_count": 15,
      "outputs": [
        {
          "output_type": "execute_result",
          "data": {
            "text/plain": [
              "(354, 13)"
            ]
          },
          "metadata": {
            "tags": []
          },
          "execution_count": 15
        }
      ]
    },
    {
      "cell_type": "markdown",
      "metadata": {
        "id": "Iw_9XOwZfMd7"
      },
      "source": [
        "Question 5:\r\n",
        "Try Ridge and Lasso Regression models with at least 5 different alpha value for each."
      ]
    },
    {
      "cell_type": "code",
      "metadata": {
        "id": "O298S1_ofTge"
      },
      "source": [
        "from sklearn.linear_model import LinearRegression, Ridge, Lasso"
      ],
      "execution_count": 21,
      "outputs": []
    },
    {
      "cell_type": "code",
      "metadata": {
        "colab": {
          "base_uri": "https://localhost:8080/"
        },
        "id": "ZsjucsbchDpY",
        "outputId": "82178d56-f81b-4354-b421-52fa17e62227"
      },
      "source": [
        "ridge_model = Ridge(alpha = 0.01)\r\n",
        "ridge_model.fit(X_train, y_train)\r\n",
        "lasso_model = Lasso(alpha = 0.01)\r\n",
        "lasso_model.fit(X_train, y_train)\r\n",
        "print(\"Ridge Train: \", ridge_model.score(X_train, y_train))\r\n",
        "print(\"Ridge Test: \", ridge_model.score(X_test, y_test))\r\n",
        "print('*************************')\r\n",
        "print(\"Lasso Train: \", lasso_model.score(X_train, y_train))\r\n",
        "print(\"Lasso Test: \", lasso_model.score(X_test, y_test))"
      ],
      "execution_count": 22,
      "outputs": [
        {
          "output_type": "stream",
          "text": [
            "Ridge Train:  0.7434990281567367\n",
            "Ridge Test:  0.7111351633163316\n",
            "*************************\n",
            "Lasso Train:  0.743066482217795\n",
            "Lasso Test:  0.7088264519692221\n"
          ],
          "name": "stdout"
        }
      ]
    },
    {
      "cell_type": "code",
      "metadata": {
        "colab": {
          "base_uri": "https://localhost:8080/"
        },
        "id": "h7HqgZQbg5FO",
        "outputId": "661a8624-ac4b-4401-c0c7-3b9e134647fb"
      },
      "source": [
        "ridge_model = Ridge(alpha = 0.02)\r\n",
        "ridge_model.fit(X_train, y_train)\r\n",
        "lasso_model = Lasso(alpha = 0.02)\r\n",
        "lasso_model.fit(X_train, y_train)\r\n",
        "print(\"Ridge Train: \", ridge_model.score(X_train, y_train))\r\n",
        "print(\"Ridge Test: \", ridge_model.score(X_test, y_test))\r\n",
        "print('*************************')\r\n",
        "print(\"Lasso Train: \", lasso_model.score(X_train, y_train))\r\n",
        "print(\"Lasso Test: \", lasso_model.score(X_test, y_test))"
      ],
      "execution_count": 24,
      "outputs": [
        {
          "output_type": "stream",
          "text": [
            "Ridge Train:  0.7434969073574276\n",
            "Ridge Test:  0.7110441931030493\n",
            "*************************\n",
            "Lasso Train:  0.7417666684550652\n",
            "Lasso Test:  0.7052390841975381\n"
          ],
          "name": "stdout"
        }
      ]
    },
    {
      "cell_type": "code",
      "metadata": {
        "colab": {
          "base_uri": "https://localhost:8080/"
        },
        "id": "sBiwo6khhNIm",
        "outputId": "73d2c687-f42c-46dc-ebb0-218e2550b0f7"
      },
      "source": [
        "ridge_model = Ridge(alpha = 0.001)\r\n",
        "ridge_model.fit(X_train, y_train)\r\n",
        "lasso_model = Lasso(alpha = 0.001)\r\n",
        "lasso_model.fit(X_train, y_train)\r\n",
        "print(\"Ridge Train: \", ridge_model.score(X_train, y_train))\r\n",
        "print(\"Ridge Test: \", ridge_model.score(X_test, y_test))\r\n",
        "print('*************************')\r\n",
        "print(\"Lasso Train: \", lasso_model.score(X_train, y_train))\r\n",
        "print(\"Lasso Test: \", lasso_model.score(X_test, y_test))"
      ],
      "execution_count": 25,
      "outputs": [
        {
          "output_type": "stream",
          "text": [
            "Ridge Train:  0.7434997458244244\n",
            "Ridge Test:  0.7112169289517238\n",
            "*************************\n",
            "Lasso Train:  0.7434954195159733\n",
            "Lasso Test:  0.7110394345928663\n"
          ],
          "name": "stdout"
        }
      ]
    },
    {
      "cell_type": "code",
      "metadata": {
        "colab": {
          "base_uri": "https://localhost:8080/"
        },
        "id": "XfVZPfh3hU3U",
        "outputId": "51e3c18f-8a15-411e-940c-e22bedf6a068"
      },
      "source": [
        "ridge_model = Ridge(alpha = 0.002)\r\n",
        "ridge_model.fit(X_train, y_train)\r\n",
        "lasso_model = Lasso(alpha = 0.002)\r\n",
        "lasso_model.fit(X_train, y_train)\r\n",
        "print(\"Ridge Train: \", ridge_model.score(X_train, y_train))\r\n",
        "print(\"Ridge Test: \", ridge_model.score(X_test, y_test))\r\n",
        "print('*************************')\r\n",
        "print(\"Lasso Train: \", lasso_model.score(X_train, y_train))\r\n",
        "print(\"Lasso Test: \", lasso_model.score(X_test, y_test))"
      ],
      "execution_count": 26,
      "outputs": [
        {
          "output_type": "stream",
          "text": [
            "Ridge Train:  0.7434997237527576\n",
            "Ridge Test:  0.7112078503361525\n",
            "*************************\n",
            "Lasso Train:  0.7434824204188089\n",
            "Lasso Test:  0.7108409922939348\n"
          ],
          "name": "stdout"
        }
      ]
    },
    {
      "cell_type": "code",
      "metadata": {
        "colab": {
          "base_uri": "https://localhost:8080/"
        },
        "id": "v1bjvFqVhZk9",
        "outputId": "cbd2daed-fb69-44a3-8462-5d11d02ed2f9"
      },
      "source": [
        "ridge_model = Ridge(alpha = 0.05)\r\n",
        "ridge_model.fit(X_train, y_train)\r\n",
        "lasso_model = Lasso(alpha = 0.05)\r\n",
        "lasso_model.fit(X_train, y_train)\r\n",
        "print(\"Ridge Train: \", ridge_model.score(X_train, y_train))\r\n",
        "print(\"Ridge Test: \", ridge_model.score(X_test, y_test))\r\n",
        "print('*************************')\r\n",
        "print(\"Lasso Train: \", lasso_model.score(X_train, y_train))\r\n",
        "print(\"Lasso Test: \", lasso_model.score(X_test, y_test))"
      ],
      "execution_count": 27,
      "outputs": [
        {
          "output_type": "stream",
          "text": [
            "Ridge Train:  0.7434829299372396\n",
            "Ridge Test:  0.7107710601788526\n",
            "*************************\n",
            "Lasso Train:  0.735044871451358\n",
            "Lasso Test:  0.6916678628681786\n"
          ],
          "name": "stdout"
        }
      ]
    },
    {
      "cell_type": "markdown",
      "metadata": {
        "id": "UITYfNHyitlE"
      },
      "source": [
        "Question 6:\r\n",
        "Evaluate the results of all models and choose the best performing model."
      ]
    },
    {
      "cell_type": "markdown",
      "metadata": {
        "id": "EdYU1sN-i3ZS"
      },
      "source": [
        "1.Ridge Test:  0.7111351633163316\r\n",
        "\r\n",
        "  Lasso Test:  0.7088264519692221\r\n",
        "\r\n",
        "2.Ridge Test:  0.7110441931030493\r\n",
        "\r\n",
        "  Lasso Test:  0.7052390841975381  \r\n",
        "\r\n",
        "3.Ridge Test:  0.7112169289517238\r\n",
        "\r\n",
        "  Lasso Test:  0.7110394345928663\r\n",
        "\r\n",
        "4.Ridge Test:  0.7112078503361525\r\n",
        "\r\n",
        "  Lasso Test:  0.7108409922939348\r\n",
        "\r\n",
        "5.Ridge Test:  0.7107710601788526\r\n",
        "\r\n",
        "Lasso Test:  0.6916678628681786\r\n"
      ]
    },
    {
      "cell_type": "markdown",
      "metadata": {
        "id": "NSNWvEzzkIV_"
      },
      "source": [
        "From the above results we can conclude that the model 3 with alpha value 0.001 is the best performing model."
      ]
    }
  ]
}