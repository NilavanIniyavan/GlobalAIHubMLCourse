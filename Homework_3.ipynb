{
  "nbformat": 4,
  "nbformat_minor": 0,
  "metadata": {
    "colab": {
      "name": "Homework 3.ipynb",
      "provenance": [],
      "collapsed_sections": [],
      "authorship_tag": "ABX9TyPjJQKiJQapLi1wuJdReViY",
      "include_colab_link": true
    },
    "kernelspec": {
      "name": "python3",
      "display_name": "Python 3"
    }
  },
  "cells": [
    {
      "cell_type": "markdown",
      "metadata": {
        "id": "view-in-github",
        "colab_type": "text"
      },
      "source": [
        "<a href=\"https://colab.research.google.com/github/NilavanIniyavan/GlobalAIHubMLCourse/blob/main/Homework_3.ipynb\" target=\"_parent\"><img src=\"https://colab.research.google.com/assets/colab-badge.svg\" alt=\"Open In Colab\"/></a>"
      ]
    },
    {
      "cell_type": "markdown",
      "metadata": {
        "id": "xXz9hNB555yH"
      },
      "source": [
        "Question 1:\r\n",
        "Generate dataset using make_blobs function in the sklearn.datasets class. Generate 2000 samples with 3 features (X) with one label (y)."
      ]
    },
    {
      "cell_type": "code",
      "metadata": {
        "colab": {
          "base_uri": "https://localhost:8080/"
        },
        "id": "-C0-eteT58bv",
        "outputId": "56bc103e-a7e3-4a29-bd8c-90f96664b11e"
      },
      "source": [
        "from sklearn.datasets import make_blobs\r\n",
        "X, y = make_blobs(n_samples=2000, centers=None, n_features=3,random_state=42)\r\n",
        "print(X.shape)"
      ],
      "execution_count": 2,
      "outputs": [
        {
          "output_type": "stream",
          "text": [
            "(2000, 3)\n"
          ],
          "name": "stdout"
        }
      ]
    },
    {
      "cell_type": "markdown",
      "metadata": {
        "id": "QgAf4EGA6XkE"
      },
      "source": [
        "Question 2:\r\n",
        "Explore and analyse raw data."
      ]
    },
    {
      "cell_type": "code",
      "metadata": {
        "colab": {
          "base_uri": "https://localhost:8080/",
          "height": 195
        },
        "id": "7WIePCqP6cxt",
        "outputId": "bbaa17d5-52a9-4984-e6cd-dc6cecb6afb0"
      },
      "source": [
        "import pandas as pd\r\n",
        "from pandas import DataFrame\r\n",
        "import seaborn as sns\r\n",
        "from matplotlib import pyplot\r\n",
        "import numpy as np\r\n",
        "df = DataFrame(dict(x=X[:,0], y=X[:,1],z=X[:,2], label=y))\r\n",
        "df.head()"
      ],
      "execution_count": 11,
      "outputs": [
        {
          "output_type": "execute_result",
          "data": {
            "text/html": [
              "<div>\n",
              "<style scoped>\n",
              "    .dataframe tbody tr th:only-of-type {\n",
              "        vertical-align: middle;\n",
              "    }\n",
              "\n",
              "    .dataframe tbody tr th {\n",
              "        vertical-align: top;\n",
              "    }\n",
              "\n",
              "    .dataframe thead th {\n",
              "        text-align: right;\n",
              "    }\n",
              "</style>\n",
              "<table border=\"1\" class=\"dataframe\">\n",
              "  <thead>\n",
              "    <tr style=\"text-align: right;\">\n",
              "      <th></th>\n",
              "      <th>x</th>\n",
              "      <th>y</th>\n",
              "      <th>z</th>\n",
              "      <th>label</th>\n",
              "    </tr>\n",
              "  </thead>\n",
              "  <tbody>\n",
              "    <tr>\n",
              "      <th>0</th>\n",
              "      <td>-8.499150</td>\n",
              "      <td>5.667142</td>\n",
              "      <td>1.509983</td>\n",
              "      <td>2</td>\n",
              "    </tr>\n",
              "    <tr>\n",
              "      <th>1</th>\n",
              "      <td>-9.736497</td>\n",
              "      <td>7.584346</td>\n",
              "      <td>1.997468</td>\n",
              "      <td>2</td>\n",
              "    </tr>\n",
              "    <tr>\n",
              "      <th>2</th>\n",
              "      <td>0.773310</td>\n",
              "      <td>-7.171882</td>\n",
              "      <td>-6.727008</td>\n",
              "      <td>1</td>\n",
              "    </tr>\n",
              "    <tr>\n",
              "      <th>3</th>\n",
              "      <td>1.745282</td>\n",
              "      <td>-5.885697</td>\n",
              "      <td>-7.788316</td>\n",
              "      <td>1</td>\n",
              "    </tr>\n",
              "    <tr>\n",
              "      <th>4</th>\n",
              "      <td>1.583768</td>\n",
              "      <td>-5.288722</td>\n",
              "      <td>-7.983133</td>\n",
              "      <td>1</td>\n",
              "    </tr>\n",
              "  </tbody>\n",
              "</table>\n",
              "</div>"
            ],
            "text/plain": [
              "          x         y         z  label\n",
              "0 -8.499150  5.667142  1.509983      2\n",
              "1 -9.736497  7.584346  1.997468      2\n",
              "2  0.773310 -7.171882 -6.727008      1\n",
              "3  1.745282 -5.885697 -7.788316      1\n",
              "4  1.583768 -5.288722 -7.983133      1"
            ]
          },
          "metadata": {
            "tags": []
          },
          "execution_count": 11
        }
      ]
    },
    {
      "cell_type": "code",
      "metadata": {
        "colab": {
          "base_uri": "https://localhost:8080/"
        },
        "id": "BleTiiE3Gnsg",
        "outputId": "ea4e61f9-66ff-4e87-b43c-ac7439a74a4c"
      },
      "source": [
        "df.info()"
      ],
      "execution_count": 9,
      "outputs": [
        {
          "output_type": "stream",
          "text": [
            "<class 'pandas.core.frame.DataFrame'>\n",
            "RangeIndex: 2000 entries, 0 to 1999\n",
            "Data columns (total 4 columns):\n",
            " #   Column  Non-Null Count  Dtype  \n",
            "---  ------  --------------  -----  \n",
            " 0   x       2000 non-null   float64\n",
            " 1   y       2000 non-null   float64\n",
            " 2   z       2000 non-null   float64\n",
            " 3   label   2000 non-null   int64  \n",
            "dtypes: float64(3), int64(1)\n",
            "memory usage: 62.6 KB\n"
          ],
          "name": "stdout"
        }
      ]
    },
    {
      "cell_type": "code",
      "metadata": {
        "colab": {
          "base_uri": "https://localhost:8080/",
          "height": 284
        },
        "id": "Jb5nNtGVG5G0",
        "outputId": "6ec09082-bcb9-4bf9-8ebd-95c0398a0f92"
      },
      "source": [
        "df.describe()"
      ],
      "execution_count": 12,
      "outputs": [
        {
          "output_type": "execute_result",
          "data": {
            "text/html": [
              "<div>\n",
              "<style scoped>\n",
              "    .dataframe tbody tr th:only-of-type {\n",
              "        vertical-align: middle;\n",
              "    }\n",
              "\n",
              "    .dataframe tbody tr th {\n",
              "        vertical-align: top;\n",
              "    }\n",
              "\n",
              "    .dataframe thead th {\n",
              "        text-align: right;\n",
              "    }\n",
              "</style>\n",
              "<table border=\"1\" class=\"dataframe\">\n",
              "  <thead>\n",
              "    <tr style=\"text-align: right;\">\n",
              "      <th></th>\n",
              "      <th>x</th>\n",
              "      <th>y</th>\n",
              "      <th>z</th>\n",
              "      <th>label</th>\n",
              "    </tr>\n",
              "  </thead>\n",
              "  <tbody>\n",
              "    <tr>\n",
              "      <th>count</th>\n",
              "      <td>2000.000000</td>\n",
              "      <td>2000.000000</td>\n",
              "      <td>2000.000000</td>\n",
              "      <td>2000.000000</td>\n",
              "    </tr>\n",
              "    <tr>\n",
              "      <th>mean</th>\n",
              "      <td>-3.185601</td>\n",
              "      <td>3.158252</td>\n",
              "      <td>-0.058714</td>\n",
              "      <td>0.999500</td>\n",
              "    </tr>\n",
              "    <tr>\n",
              "      <th>std</th>\n",
              "      <td>4.552214</td>\n",
              "      <td>7.209014</td>\n",
              "      <td>5.037935</td>\n",
              "      <td>0.816599</td>\n",
              "    </tr>\n",
              "    <tr>\n",
              "      <th>min</th>\n",
              "      <td>-12.420390</td>\n",
              "      <td>-10.351057</td>\n",
              "      <td>-9.712629</td>\n",
              "      <td>0.000000</td>\n",
              "    </tr>\n",
              "    <tr>\n",
              "      <th>25%</th>\n",
              "      <td>-8.239049</td>\n",
              "      <td>-6.206542</td>\n",
              "      <td>-6.163356</td>\n",
              "      <td>0.000000</td>\n",
              "    </tr>\n",
              "    <tr>\n",
              "      <th>50%</th>\n",
              "      <td>-2.522167</td>\n",
              "      <td>7.251697</td>\n",
              "      <td>1.965763</td>\n",
              "      <td>1.000000</td>\n",
              "    </tr>\n",
              "    <tr>\n",
              "      <th>75%</th>\n",
              "      <td>1.275338</td>\n",
              "      <td>8.652427</td>\n",
              "      <td>4.039708</td>\n",
              "      <td>2.000000</td>\n",
              "    </tr>\n",
              "    <tr>\n",
              "      <th>max</th>\n",
              "      <td>4.543077</td>\n",
              "      <td>11.952039</td>\n",
              "      <td>8.012175</td>\n",
              "      <td>2.000000</td>\n",
              "    </tr>\n",
              "  </tbody>\n",
              "</table>\n",
              "</div>"
            ],
            "text/plain": [
              "                 x            y            z        label\n",
              "count  2000.000000  2000.000000  2000.000000  2000.000000\n",
              "mean     -3.185601     3.158252    -0.058714     0.999500\n",
              "std       4.552214     7.209014     5.037935     0.816599\n",
              "min     -12.420390   -10.351057    -9.712629     0.000000\n",
              "25%      -8.239049    -6.206542    -6.163356     0.000000\n",
              "50%      -2.522167     7.251697     1.965763     1.000000\n",
              "75%       1.275338     8.652427     4.039708     2.000000\n",
              "max       4.543077    11.952039     8.012175     2.000000"
            ]
          },
          "metadata": {
            "tags": []
          },
          "execution_count": 12
        }
      ]
    },
    {
      "cell_type": "code",
      "metadata": {
        "colab": {
          "base_uri": "https://localhost:8080/"
        },
        "id": "LSzoCUxWHA1h",
        "outputId": "d7a9d2a8-bb6c-4348-d9fb-ff43e035f1bc"
      },
      "source": [
        "df.isna().sum()"
      ],
      "execution_count": 13,
      "outputs": [
        {
          "output_type": "execute_result",
          "data": {
            "text/plain": [
              "x        0\n",
              "y        0\n",
              "z        0\n",
              "label    0\n",
              "dtype: int64"
            ]
          },
          "metadata": {
            "tags": []
          },
          "execution_count": 13
        }
      ]
    },
    {
      "cell_type": "code",
      "metadata": {
        "colab": {
          "base_uri": "https://localhost:8080/",
          "height": 166
        },
        "id": "seL3NJPEHGyE",
        "outputId": "f7bf4cff-34f0-43ec-be53-4a1e42bff3b6"
      },
      "source": [
        "df.groupby(by=\"label\").count()"
      ],
      "execution_count": 14,
      "outputs": [
        {
          "output_type": "execute_result",
          "data": {
            "text/html": [
              "<div>\n",
              "<style scoped>\n",
              "    .dataframe tbody tr th:only-of-type {\n",
              "        vertical-align: middle;\n",
              "    }\n",
              "\n",
              "    .dataframe tbody tr th {\n",
              "        vertical-align: top;\n",
              "    }\n",
              "\n",
              "    .dataframe thead th {\n",
              "        text-align: right;\n",
              "    }\n",
              "</style>\n",
              "<table border=\"1\" class=\"dataframe\">\n",
              "  <thead>\n",
              "    <tr style=\"text-align: right;\">\n",
              "      <th></th>\n",
              "      <th>x</th>\n",
              "      <th>y</th>\n",
              "      <th>z</th>\n",
              "    </tr>\n",
              "    <tr>\n",
              "      <th>label</th>\n",
              "      <th></th>\n",
              "      <th></th>\n",
              "      <th></th>\n",
              "    </tr>\n",
              "  </thead>\n",
              "  <tbody>\n",
              "    <tr>\n",
              "      <th>0</th>\n",
              "      <td>667</td>\n",
              "      <td>667</td>\n",
              "      <td>667</td>\n",
              "    </tr>\n",
              "    <tr>\n",
              "      <th>1</th>\n",
              "      <td>667</td>\n",
              "      <td>667</td>\n",
              "      <td>667</td>\n",
              "    </tr>\n",
              "    <tr>\n",
              "      <th>2</th>\n",
              "      <td>666</td>\n",
              "      <td>666</td>\n",
              "      <td>666</td>\n",
              "    </tr>\n",
              "  </tbody>\n",
              "</table>\n",
              "</div>"
            ],
            "text/plain": [
              "         x    y    z\n",
              "label               \n",
              "0      667  667  667\n",
              "1      667  667  667\n",
              "2      666  666  666"
            ]
          },
          "metadata": {
            "tags": []
          },
          "execution_count": 14
        }
      ]
    },
    {
      "cell_type": "markdown",
      "metadata": {
        "id": "7R3XrLUGHvfJ"
      },
      "source": [
        "Question 3:\r\n",
        "Do preprocessing for classification."
      ]
    },
    {
      "cell_type": "code",
      "metadata": {
        "colab": {
          "base_uri": "https://localhost:8080/",
          "height": 195
        },
        "id": "-BwS40FTHTNn",
        "outputId": "fe03b8e2-8d8a-494a-f5d8-fd93def60627"
      },
      "source": [
        "from sklearn.preprocessing import LabelEncoder\r\n",
        "from sklearn.model_selection import train_test_split\r\n",
        "from sklearn.metrics import accuracy_score\r\n",
        "label_encoder = LabelEncoder()\r\n",
        "df[\"Label\"] = label_encoder.fit_transform(df[\"label\"]) \r\n",
        "df.head()"
      ],
      "execution_count": 15,
      "outputs": [
        {
          "output_type": "execute_result",
          "data": {
            "text/html": [
              "<div>\n",
              "<style scoped>\n",
              "    .dataframe tbody tr th:only-of-type {\n",
              "        vertical-align: middle;\n",
              "    }\n",
              "\n",
              "    .dataframe tbody tr th {\n",
              "        vertical-align: top;\n",
              "    }\n",
              "\n",
              "    .dataframe thead th {\n",
              "        text-align: right;\n",
              "    }\n",
              "</style>\n",
              "<table border=\"1\" class=\"dataframe\">\n",
              "  <thead>\n",
              "    <tr style=\"text-align: right;\">\n",
              "      <th></th>\n",
              "      <th>x</th>\n",
              "      <th>y</th>\n",
              "      <th>z</th>\n",
              "      <th>label</th>\n",
              "      <th>Label</th>\n",
              "    </tr>\n",
              "  </thead>\n",
              "  <tbody>\n",
              "    <tr>\n",
              "      <th>0</th>\n",
              "      <td>-8.499150</td>\n",
              "      <td>5.667142</td>\n",
              "      <td>1.509983</td>\n",
              "      <td>2</td>\n",
              "      <td>2</td>\n",
              "    </tr>\n",
              "    <tr>\n",
              "      <th>1</th>\n",
              "      <td>-9.736497</td>\n",
              "      <td>7.584346</td>\n",
              "      <td>1.997468</td>\n",
              "      <td>2</td>\n",
              "      <td>2</td>\n",
              "    </tr>\n",
              "    <tr>\n",
              "      <th>2</th>\n",
              "      <td>0.773310</td>\n",
              "      <td>-7.171882</td>\n",
              "      <td>-6.727008</td>\n",
              "      <td>1</td>\n",
              "      <td>1</td>\n",
              "    </tr>\n",
              "    <tr>\n",
              "      <th>3</th>\n",
              "      <td>1.745282</td>\n",
              "      <td>-5.885697</td>\n",
              "      <td>-7.788316</td>\n",
              "      <td>1</td>\n",
              "      <td>1</td>\n",
              "    </tr>\n",
              "    <tr>\n",
              "      <th>4</th>\n",
              "      <td>1.583768</td>\n",
              "      <td>-5.288722</td>\n",
              "      <td>-7.983133</td>\n",
              "      <td>1</td>\n",
              "      <td>1</td>\n",
              "    </tr>\n",
              "  </tbody>\n",
              "</table>\n",
              "</div>"
            ],
            "text/plain": [
              "          x         y         z  label  Label\n",
              "0 -8.499150  5.667142  1.509983      2      2\n",
              "1 -9.736497  7.584346  1.997468      2      2\n",
              "2  0.773310 -7.171882 -6.727008      1      1\n",
              "3  1.745282 -5.885697 -7.788316      1      1\n",
              "4  1.583768 -5.288722 -7.983133      1      1"
            ]
          },
          "metadata": {
            "tags": []
          },
          "execution_count": 15
        }
      ]
    },
    {
      "cell_type": "code",
      "metadata": {
        "colab": {
          "base_uri": "https://localhost:8080/"
        },
        "id": "MMHYuXA3HsEb",
        "outputId": "43f00c62-14e4-4c61-aa3c-344aa6be3b7d"
      },
      "source": [
        "df[\"Label\"].value_counts()"
      ],
      "execution_count": 16,
      "outputs": [
        {
          "output_type": "execute_result",
          "data": {
            "text/plain": [
              "1    667\n",
              "0    667\n",
              "2    666\n",
              "Name: Label, dtype: int64"
            ]
          },
          "metadata": {
            "tags": []
          },
          "execution_count": 16
        }
      ]
    },
    {
      "cell_type": "code",
      "metadata": {
        "colab": {
          "base_uri": "https://localhost:8080/"
        },
        "id": "M7PpNJgjHzrt",
        "outputId": "5fdcc6d3-8ea0-4f9c-ead5-c79bce0430fd"
      },
      "source": [
        "categories = list(label_encoder.inverse_transform([0, 1, 2]))\r\n",
        "categories"
      ],
      "execution_count": 17,
      "outputs": [
        {
          "output_type": "execute_result",
          "data": {
            "text/plain": [
              "[0, 1, 2]"
            ]
          },
          "metadata": {
            "tags": []
          },
          "execution_count": 17
        }
      ]
    },
    {
      "cell_type": "markdown",
      "metadata": {
        "id": "laLkRqa_IRzU"
      },
      "source": [
        "Question 4:\r\n",
        "Split your dataset into train and test test (0.7 for train and 0.3 for test)."
      ]
    },
    {
      "cell_type": "code",
      "metadata": {
        "id": "AEJ9M0QmISVA"
      },
      "source": [
        "X_train, X_test, y_train, y_test = train_test_split(X, y,train_size=0.7, test_size=0.3, random_state=123)\r\n"
      ],
      "execution_count": 20,
      "outputs": []
    },
    {
      "cell_type": "markdown",
      "metadata": {
        "id": "AM_dVSzfI2Uy"
      },
      "source": [
        "Question 5:\r\n",
        "Try Decision Tree and XGBoost Algorithm with different hyperparameters. (Using GridSearchCV is a plus)"
      ]
    },
    {
      "cell_type": "code",
      "metadata": {
        "colab": {
          "base_uri": "https://localhost:8080/",
          "height": 380
        },
        "id": "rm3tjWbQMSLL",
        "outputId": "367877d9-0402-4c24-dd5d-83085b94854e"
      },
      "source": [
        "import os\r\n",
        "from sklearn.tree import export_graphviz\r\n",
        "import graphviz\r\n",
        "\r\n",
        "dot_data = export_graphviz(clf, out_file=None,\r\n",
        "                     feature_names=X.columns,\r\n",
        "                    )\r\n",
        "graph = graphviz.Source(dot_data)\r\n",
        "graph"
      ],
      "execution_count": 39,
      "outputs": [
        {
          "output_type": "execute_result",
          "data": {
            "text/plain": [
              "<graphviz.files.Source at 0x7fe33333e7b8>"
            ],
            "image/svg+xml": "<?xml version=\"1.0\" encoding=\"UTF-8\" standalone=\"no\"?>\n<!DOCTYPE svg PUBLIC \"-//W3C//DTD SVG 1.1//EN\"\n \"http://www.w3.org/Graphics/SVG/1.1/DTD/svg11.dtd\">\n<!-- Generated by graphviz version 2.40.1 (20161225.0304)\n -->\n<!-- Title: Tree Pages: 1 -->\n<svg width=\"355pt\" height=\"269pt\"\n viewBox=\"0.00 0.00 355.00 269.00\" xmlns=\"http://www.w3.org/2000/svg\" xmlns:xlink=\"http://www.w3.org/1999/xlink\">\n<g id=\"graph0\" class=\"graph\" transform=\"scale(1 1) rotate(0) translate(4 265)\">\n<title>Tree</title>\n<polygon fill=\"#ffffff\" stroke=\"transparent\" points=\"-4,4 -4,-265 351,-265 351,4 -4,4\"/>\n<!-- 0 -->\n<g id=\"node1\" class=\"node\">\n<title>0</title>\n<polygon fill=\"none\" stroke=\"#000000\" points=\"215,-261 60,-261 60,-193 215,-193 215,-261\"/>\n<text text-anchor=\"middle\" x=\"137.5\" y=\"-245.8\" font-family=\"Times,serif\" font-size=\"14.00\" fill=\"#000000\">z &lt;= &#45;2.498</text>\n<text text-anchor=\"middle\" x=\"137.5\" y=\"-230.8\" font-family=\"Times,serif\" font-size=\"14.00\" fill=\"#000000\">gini = 0.666</text>\n<text text-anchor=\"middle\" x=\"137.5\" y=\"-215.8\" font-family=\"Times,serif\" font-size=\"14.00\" fill=\"#000000\">samples = 1400</text>\n<text text-anchor=\"middle\" x=\"137.5\" y=\"-200.8\" font-family=\"Times,serif\" font-size=\"14.00\" fill=\"#000000\">value = [460, 495, 445]</text>\n</g>\n<!-- 1 -->\n<g id=\"node2\" class=\"node\">\n<title>1</title>\n<polygon fill=\"none\" stroke=\"#000000\" points=\"125,-149.5 0,-149.5 0,-96.5 125,-96.5 125,-149.5\"/>\n<text text-anchor=\"middle\" x=\"62.5\" y=\"-134.3\" font-family=\"Times,serif\" font-size=\"14.00\" fill=\"#000000\">gini = 0.0</text>\n<text text-anchor=\"middle\" x=\"62.5\" y=\"-119.3\" font-family=\"Times,serif\" font-size=\"14.00\" fill=\"#000000\">samples = 495</text>\n<text text-anchor=\"middle\" x=\"62.5\" y=\"-104.3\" font-family=\"Times,serif\" font-size=\"14.00\" fill=\"#000000\">value = [0, 495, 0]</text>\n</g>\n<!-- 0&#45;&gt;1 -->\n<g id=\"edge1\" class=\"edge\">\n<title>0&#45;&gt;1</title>\n<path fill=\"none\" stroke=\"#000000\" d=\"M112.9422,-192.9465C104.8399,-181.7113 95.8188,-169.2021 87.6714,-157.9043\"/>\n<polygon fill=\"#000000\" stroke=\"#000000\" points=\"90.3291,-155.6058 81.641,-149.5422 84.6514,-159.7003 90.3291,-155.6058\"/>\n<text text-anchor=\"middle\" x=\"77.6428\" y=\"-170.5204\" font-family=\"Times,serif\" font-size=\"14.00\" fill=\"#000000\">True</text>\n</g>\n<!-- 2 -->\n<g id=\"node3\" class=\"node\">\n<title>2</title>\n<polygon fill=\"none\" stroke=\"#000000\" points=\"283.5,-157 143.5,-157 143.5,-89 283.5,-89 283.5,-157\"/>\n<text text-anchor=\"middle\" x=\"213.5\" y=\"-141.8\" font-family=\"Times,serif\" font-size=\"14.00\" fill=\"#000000\">x &lt;= &#45;5.553</text>\n<text text-anchor=\"middle\" x=\"213.5\" y=\"-126.8\" font-family=\"Times,serif\" font-size=\"14.00\" fill=\"#000000\">gini = 0.5</text>\n<text text-anchor=\"middle\" x=\"213.5\" y=\"-111.8\" font-family=\"Times,serif\" font-size=\"14.00\" fill=\"#000000\">samples = 905</text>\n<text text-anchor=\"middle\" x=\"213.5\" y=\"-96.8\" font-family=\"Times,serif\" font-size=\"14.00\" fill=\"#000000\">value = [460, 0, 445]</text>\n</g>\n<!-- 0&#45;&gt;2 -->\n<g id=\"edge2\" class=\"edge\">\n<title>0&#45;&gt;2</title>\n<path fill=\"none\" stroke=\"#000000\" d=\"M162.3852,-192.9465C168.8153,-184.1475 175.8163,-174.5672 182.5159,-165.3993\"/>\n<polygon fill=\"#000000\" stroke=\"#000000\" points=\"185.4845,-167.269 188.5588,-157.13 179.8328,-163.1389 185.4845,-167.269\"/>\n<text text-anchor=\"middle\" x=\"192.4015\" y=\"-178.1329\" font-family=\"Times,serif\" font-size=\"14.00\" fill=\"#000000\">False</text>\n</g>\n<!-- 3 -->\n<g id=\"node4\" class=\"node\">\n<title>3</title>\n<polygon fill=\"none\" stroke=\"#000000\" points=\"204,-53 79,-53 79,0 204,0 204,-53\"/>\n<text text-anchor=\"middle\" x=\"141.5\" y=\"-37.8\" font-family=\"Times,serif\" font-size=\"14.00\" fill=\"#000000\">gini = 0.0</text>\n<text text-anchor=\"middle\" x=\"141.5\" y=\"-22.8\" font-family=\"Times,serif\" font-size=\"14.00\" fill=\"#000000\">samples = 445</text>\n<text text-anchor=\"middle\" x=\"141.5\" y=\"-7.8\" font-family=\"Times,serif\" font-size=\"14.00\" fill=\"#000000\">value = [0, 0, 445]</text>\n</g>\n<!-- 2&#45;&gt;3 -->\n<g id=\"edge3\" class=\"edge\">\n<title>2&#45;&gt;3</title>\n<path fill=\"none\" stroke=\"#000000\" d=\"M188.1155,-88.9777C181.42,-80.0039 174.1865,-70.3089 167.461,-61.295\"/>\n<polygon fill=\"#000000\" stroke=\"#000000\" points=\"170.2427,-59.1704 161.4574,-53.2485 164.6323,-63.3565 170.2427,-59.1704\"/>\n</g>\n<!-- 4 -->\n<g id=\"node5\" class=\"node\">\n<title>4</title>\n<polygon fill=\"none\" stroke=\"#000000\" points=\"347,-53 222,-53 222,0 347,0 347,-53\"/>\n<text text-anchor=\"middle\" x=\"284.5\" y=\"-37.8\" font-family=\"Times,serif\" font-size=\"14.00\" fill=\"#000000\">gini = 0.0</text>\n<text text-anchor=\"middle\" x=\"284.5\" y=\"-22.8\" font-family=\"Times,serif\" font-size=\"14.00\" fill=\"#000000\">samples = 460</text>\n<text text-anchor=\"middle\" x=\"284.5\" y=\"-7.8\" font-family=\"Times,serif\" font-size=\"14.00\" fill=\"#000000\">value = [460, 0, 0]</text>\n</g>\n<!-- 2&#45;&gt;4 -->\n<g id=\"edge4\" class=\"edge\">\n<title>2&#45;&gt;4</title>\n<path fill=\"none\" stroke=\"#000000\" d=\"M238.5319,-88.9777C245.0671,-80.0954 252.122,-70.5067 258.6964,-61.5711\"/>\n<polygon fill=\"#000000\" stroke=\"#000000\" points=\"261.7126,-63.3775 264.8198,-53.2485 256.0743,-59.229 261.7126,-63.3775\"/>\n</g>\n</g>\n</svg>\n"
          },
          "metadata": {
            "tags": []
          },
          "execution_count": 39
        }
      ]
    },
    {
      "cell_type": "code",
      "metadata": {
        "colab": {
          "base_uri": "https://localhost:8080/"
        },
        "id": "Y3P02C3rKeJD",
        "outputId": "35c27547-3799-4e46-8302-641401989a17"
      },
      "source": [
        "import xgboost as xgb\r\n",
        "dmatrix_train = xgb.DMatrix(data=X_train, label=y_train)\r\n",
        "dmatrix_test = xgb.DMatrix(data=X_test, label=y_test)\r\n",
        "param = {'max_depth':3, \r\n",
        "         'eta':1, \r\n",
        "         'objective':'multi:softprob', \r\n",
        "         'num_class':3}\r\n",
        "\r\n",
        "num_round = 5\r\n",
        "model = xgb.train(param, dmatrix_train, num_round)\r\n",
        "categories"
      ],
      "execution_count": 33,
      "outputs": [
        {
          "output_type": "execute_result",
          "data": {
            "text/plain": [
              "[0, 1, 2]"
            ]
          },
          "metadata": {
            "tags": []
          },
          "execution_count": 33
        }
      ]
    },
    {
      "cell_type": "code",
      "metadata": {
        "colab": {
          "base_uri": "https://localhost:8080/"
        },
        "id": "Cd-TCoDwKtsb",
        "outputId": "9645963b-964f-4bad-ea4c-e9821ce8efc9"
      },
      "source": [
        "preds = model.predict(dmatrix_test)\r\n",
        "preds[:10]\r\n"
      ],
      "execution_count": 34,
      "outputs": [
        {
          "output_type": "execute_result",
          "data": {
            "text/plain": [
              "array([[0.00185217, 0.0018577 , 0.9962901 ],\n",
              "       [0.9963032 , 0.00185228, 0.00184451],\n",
              "       [0.00183537, 0.9963315 , 0.00183314],\n",
              "       [0.00183537, 0.9963315 , 0.00183314],\n",
              "       [0.00185217, 0.0018577 , 0.9962901 ],\n",
              "       [0.00185217, 0.0018577 , 0.9962901 ],\n",
              "       [0.00185217, 0.0018577 , 0.9962901 ],\n",
              "       [0.00183537, 0.9963315 , 0.00183314],\n",
              "       [0.00183537, 0.9963315 , 0.00183314],\n",
              "       [0.00185217, 0.0018577 , 0.9962901 ]], dtype=float32)"
            ]
          },
          "metadata": {
            "tags": []
          },
          "execution_count": 34
        }
      ]
    },
    {
      "cell_type": "code",
      "metadata": {
        "colab": {
          "base_uri": "https://localhost:8080/"
        },
        "id": "BrxDmtFSKyKe",
        "outputId": "10ae5747-c3ae-4abd-cd75-3f7f7c4686af"
      },
      "source": [
        "best_preds = np.asarray([np.argmax(line) for line in preds])\r\n",
        "best_preds"
      ],
      "execution_count": 35,
      "outputs": [
        {
          "output_type": "execute_result",
          "data": {
            "text/plain": [
              "array([2, 0, 1, 1, 2, 2, 2, 1, 1, 2, 0, 2, 1, 0, 2, 0, 1, 0, 1, 2, 0, 1,\n",
              "       1, 0, 0, 0, 1, 1, 0, 0, 2, 1, 2, 1, 2, 2, 2, 1, 1, 2, 1, 2, 2, 0,\n",
              "       2, 1, 1, 0, 1, 0, 0, 0, 0, 0, 2, 0, 2, 0, 0, 0, 1, 0, 1, 0, 1, 0,\n",
              "       0, 1, 0, 1, 2, 1, 0, 2, 0, 0, 2, 2, 2, 2, 2, 0, 0, 0, 0, 2, 1, 2,\n",
              "       0, 2, 2, 0, 0, 2, 2, 0, 2, 0, 1, 0, 1, 1, 2, 1, 2, 1, 0, 0, 0, 2,\n",
              "       2, 2, 2, 2, 1, 1, 2, 0, 0, 1, 2, 0, 0, 2, 2, 1, 2, 1, 2, 0, 2, 2,\n",
              "       0, 2, 0, 2, 0, 0, 0, 1, 2, 1, 2, 2, 0, 1, 1, 0, 0, 2, 0, 2, 0, 1,\n",
              "       0, 1, 1, 0, 1, 2, 1, 1, 2, 0, 0, 0, 2, 1, 2, 0, 2, 2, 2, 1, 0, 0,\n",
              "       2, 1, 2, 1, 1, 1, 0, 2, 2, 2, 1, 2, 2, 0, 2, 1, 1, 2, 0, 1, 0, 2,\n",
              "       0, 2, 2, 2, 1, 0, 1, 1, 2, 0, 0, 0, 0, 2, 0, 1, 2, 1, 2, 1, 0, 0,\n",
              "       0, 2, 0, 2, 0, 0, 1, 0, 0, 2, 2, 1, 1, 0, 1, 2, 2, 0, 0, 1, 1, 2,\n",
              "       2, 0, 2, 1, 0, 2, 0, 0, 2, 0, 2, 2, 1, 2, 2, 1, 2, 1, 2, 2, 1, 0,\n",
              "       2, 1, 1, 1, 2, 2, 1, 2, 1, 0, 1, 1, 2, 2, 0, 2, 0, 1, 0, 1, 2, 1,\n",
              "       2, 2, 0, 2, 0, 0, 2, 2, 2, 2, 1, 0, 2, 0, 2, 1, 1, 2, 0, 2, 2, 0,\n",
              "       0, 2, 0, 2, 2, 2, 1, 0, 2, 2, 2, 1, 1, 0, 0, 0, 1, 2, 1, 2, 1, 0,\n",
              "       1, 0, 2, 0, 2, 1, 1, 2, 2, 2, 2, 1, 0, 0, 2, 0, 0, 0, 0, 0, 2, 2,\n",
              "       0, 2, 2, 1, 0, 2, 0, 2, 2, 2, 1, 0, 2, 1, 0, 2, 2, 2, 0, 1, 0, 1,\n",
              "       0, 0, 1, 1, 1, 0, 1, 2, 1, 1, 2, 2, 1, 2, 2, 1, 1, 0, 0, 0, 0, 2,\n",
              "       1, 2, 1, 2, 2, 0, 1, 1, 0, 2, 1, 2, 2, 1, 2, 0, 2, 1, 2, 2, 0, 1,\n",
              "       1, 0, 1, 2, 2, 2, 0, 0, 1, 1, 2, 1, 1, 2, 2, 0, 1, 2, 1, 1, 0, 2,\n",
              "       2, 2, 0, 0, 2, 0, 0, 0, 2, 1, 1, 0, 2, 0, 2, 1, 2, 2, 1, 0, 2, 0,\n",
              "       2, 2, 2, 1, 1, 0, 0, 2, 0, 0, 2, 2, 0, 0, 2, 2, 0, 0, 1, 2, 0, 1,\n",
              "       0, 1, 2, 1, 1, 1, 0, 0, 1, 2, 2, 0, 2, 0, 1, 1, 1, 0, 0, 0, 1, 0,\n",
              "       1, 0, 2, 2, 1, 0, 2, 1, 0, 2, 0, 2, 2, 1, 1, 0, 2, 2, 0, 2, 1, 1,\n",
              "       1, 2, 0, 2, 1, 2, 2, 0, 1, 0, 0, 0, 2, 1, 2, 2, 1, 1, 0, 0, 0, 0,\n",
              "       0, 2, 0, 0, 1, 2, 1, 0, 2, 1, 1, 1, 1, 0, 0, 2, 1, 0, 0, 0, 2, 1,\n",
              "       0, 2, 2, 0, 0, 0, 1, 1, 2, 0, 0, 1, 2, 0, 2, 0, 1, 0, 1, 2, 0, 0,\n",
              "       2, 0, 1, 2, 1, 2])"
            ]
          },
          "metadata": {
            "tags": []
          },
          "execution_count": 35
        }
      ]
    },
    {
      "cell_type": "markdown",
      "metadata": {
        "id": "-65QWBOWK7Yi"
      },
      "source": [
        "Question 6:\r\n",
        "Evaluate your result on both train and test set. Analyse if there is any underfitting or overfitting problem. Make your comments."
      ]
    },
    {
      "cell_type": "code",
      "metadata": {
        "colab": {
          "base_uri": "https://localhost:8080/"
        },
        "id": "DrhOgaABI4rF",
        "outputId": "fb3315f9-97af-40ca-ba14-b6b3df0615b3"
      },
      "source": [
        "from sklearn.tree import DecisionTreeClassifier\r\n",
        "clf = DecisionTreeClassifier(max_depth=4, random_state=42)\r\n",
        "clf.fit(X_train,y_train)\r\n",
        "print(\"Accuracy of train:\",clf.score(X_train,y_train))\r\n",
        "print(\"Accuracy of test:\",clf.score(X_test,y_test))"
      ],
      "execution_count": null,
      "outputs": [
        {
          "output_type": "stream",
          "text": [
            "Accuracy of train: 1.0\n",
            "Accuracy of test: 1.0\n"
          ],
          "name": "stdout"
        }
      ]
    },
    {
      "cell_type": "code",
      "metadata": {
        "colab": {
          "base_uri": "https://localhost:8080/"
        },
        "id": "2cf6Ej0jJnzm",
        "outputId": "e196c845-32f6-43f2-ea91-ac67b3921839"
      },
      "source": [
        "from sklearn.metrics import precision_score, recall_score, accuracy_score, classification_report, f1_score\r\n",
        "pred = clf.predict(X_test)\r\n",
        "print(classification_report(y_test,pred))"
      ],
      "execution_count": 31,
      "outputs": [
        {
          "output_type": "stream",
          "text": [
            "              precision    recall  f1-score   support\n",
            "\n",
            "           0       1.00      1.00      1.00       207\n",
            "           1       1.00      1.00      1.00       172\n",
            "           2       1.00      1.00      1.00       221\n",
            "\n",
            "    accuracy                           1.00       600\n",
            "   macro avg       1.00      1.00      1.00       600\n",
            "weighted avg       1.00      1.00      1.00       600\n",
            "\n"
          ],
          "name": "stdout"
        }
      ]
    },
    {
      "cell_type": "code",
      "metadata": {
        "colab": {
          "base_uri": "https://localhost:8080/"
        },
        "id": "AlESETp9J6uY",
        "outputId": "7ab2d539-a5b0-40dc-82c8-ff141e481aeb"
      },
      "source": [
        "print(\"Precision = {}\".format(precision_score(y_test, pred, average='macro')))\r\n",
        "print(\"Recall = {}\".format(recall_score(y_test, pred, average='macro')))\r\n",
        "print(\"Accuracy = {}\".format(accuracy_score(y_test, pred)))\r\n",
        "print(\"F1 Score = {}\".format(f1_score(y_test, pred,average='macro')))"
      ],
      "execution_count": 32,
      "outputs": [
        {
          "output_type": "stream",
          "text": [
            "Precision = 1.0\n",
            "Recall = 1.0\n",
            "Accuracy = 1.0\n",
            "F1 Score = 1.0\n"
          ],
          "name": "stdout"
        }
      ]
    },
    {
      "cell_type": "markdown",
      "metadata": {
        "id": "ldcUTjpvLfqm"
      },
      "source": [
        "From the result, we can conclude that the dataset is a pure dataset and so the accuracy of train and test set is 1. So there is undersetting and overfitting problem."
      ]
    }
  ]
}