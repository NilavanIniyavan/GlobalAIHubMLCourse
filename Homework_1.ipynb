{
  "nbformat": 4,
  "nbformat_minor": 0,
  "metadata": {
    "colab": {
      "name": "Homework 1.ipynb",
      "provenance": [],
      "collapsed_sections": [],
      "authorship_tag": "ABX9TyPkSafjQZTV0k8LEb3Dz4Xt",
      "include_colab_link": true
    },
    "kernelspec": {
      "name": "python3",
      "display_name": "Python 3"
    }
  },
  "cells": [
    {
      "cell_type": "markdown",
      "metadata": {
        "id": "view-in-github",
        "colab_type": "text"
      },
      "source": [
        "<a href=\"https://colab.research.google.com/github/NilavanIniyavan/GlobalAIHubMLCourse/blob/main/Homework_1.ipynb\" target=\"_parent\"><img src=\"https://colab.research.google.com/assets/colab-badge.svg\" alt=\"Open In Colab\"/></a>"
      ]
    },
    {
      "cell_type": "markdown",
      "metadata": {
        "id": "XAcB9sIhm0jl"
      },
      "source": [
        "1) How would you define Machine Learning?\r\n"
      ]
    },
    {
      "cell_type": "markdown",
      "metadata": {
        "id": "x8PuNlrPm2vW"
      },
      "source": [
        "Machine learning is an application of artificial intelligence (AI) that provides systems the ability to automatically learn and improve from experience \r\n",
        "without being explicitly programmed. Machine learning focuses on the development of computer programs that can access data and use it to learn for themselves.\r\n"
      ]
    },
    {
      "cell_type": "markdown",
      "metadata": {
        "id": "AR9sQj5Ym5jm"
      },
      "source": [
        "2) What are the differences between Supervised and Unsupervised Learning? Specify example 3 algorithms for each of these."
      ]
    },
    {
      "cell_type": "markdown",
      "metadata": {
        "id": "og_SaSB_m7u7"
      },
      "source": [
        "In a supervised learning model, the algorithm learns on a labeled dataset, providing an answer key that the algorithm can use to evaluate its accuracy on training data.\r\n",
        "\r\n",
        "Example: smoker or non-smoker, pass or fail, head or tail\r\n",
        "\r\n",
        "An unsupervised model, in contrast, provides unlabeled data that the algorithm tries to make sense of by extracting features and patterns on its own.\r\n",
        "\r\n",
        "Example: Finding customer's needs, reducing complexity of a problem, future selection.\r\n"
      ]
    },
    {
      "cell_type": "markdown",
      "metadata": {
        "id": "WFc_OI0bnC3W"
      },
      "source": [
        "3) What are the test and validation set, and why would you want to use them?\r\n"
      ]
    },
    {
      "cell_type": "markdown",
      "metadata": {
        "id": "oruMpq4JnFf1"
      },
      "source": [
        "The “validation dataset” is predominately used to describe the evaluation of models when tuning hyperparameters and data preparation,\r\n",
        "and the “test dataset” is predominately used to describe the evaluation of a final tuned model when comparing it to other final models.\r\n"
      ]
    },
    {
      "cell_type": "markdown",
      "metadata": {
        "id": "CxoeqiyDnHXu"
      },
      "source": [
        "4) What are the main preprocessing steps? Explain them in detail. Why we need to prepare our data?"
      ]
    },
    {
      "cell_type": "markdown",
      "metadata": {
        "id": "kxuohzZnnJTC"
      },
      "source": [
        "1. Acquire the dataset\r\n",
        "2. Import all the crucial libraries\r\n",
        "3. Import the dataset\r\n",
        "4. Identifying and handling the missing values\r\n",
        "5. Encoding the categorical data\r\n",
        "6. Splitting the dataset\r\n",
        "7. Feature scaling"
      ]
    },
    {
      "cell_type": "markdown",
      "metadata": {
        "id": "lNJUHe56nO6Q"
      },
      "source": [
        "5) How you can explore continous and discrete variables?"
      ]
    },
    {
      "cell_type": "markdown",
      "metadata": {
        "id": "y23ZLl0rnSwO"
      },
      "source": [
        "A discrete variable is a variable whose value is obtained by counting.\r\n",
        "\r\n",
        "Example:number of students present\r\n",
        "\r\n",
        "A continuous variable is a variable whose value is obtained by measuring.\r\n",
        "\r\n",
        "Example:height of students in class"
      ]
    },
    {
      "cell_type": "markdown",
      "metadata": {
        "id": "pICpyRtJngug"
      },
      "source": [
        "6) Analyse the plot given below. (What is the plot and variable type, check the distribution and make comment about how you can preproccess it.)"
      ]
    },
    {
      "cell_type": "markdown",
      "metadata": {
        "id": "qa09TFHfnXNK"
      },
      "source": [
        "\r\n",
        "In [1]:\r\n",
        "\r\n",
        "Out[1]:\r\n",
        "<matplotlib.axes._subplots.AxesSubplot at 0x2b8ced01320>\r\n"
      ]
    },
    {
      "cell_type": "markdown",
      "metadata": {
        "id": "4vdDwkbWnnU0"
      },
      "source": [
        "It is the plot of flower's petal width of continous variable type. It is randomly distributed and we can preprocess it by analysing the width of the flower."
      ]
    }
  ]
}